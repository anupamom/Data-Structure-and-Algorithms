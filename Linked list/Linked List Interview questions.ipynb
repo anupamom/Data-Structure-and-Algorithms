{
 "cells": [
  {
   "cell_type": "code",
   "execution_count": 4,
   "metadata": {},
   "outputs": [
    {
     "name": "stdout",
     "output_type": "stream",
     "text": [
      "71 -> 54 -> 73 -> 11 -> 16 -> 77 -> 3 -> 32 -> 49 -> 11\n",
      "32\n"
     ]
    }
   ],
   "source": [
    "# RETURN Nth TO LAST\n",
    "\n",
    "from LinkedList import LinkedList\n",
    "\n",
    "def nthtoLast(ll, n):\n",
    "    pointer1 = ll.head\n",
    "    pointer2 = ll.head\n",
    "\n",
    "    for i in range(n):                    # TC = O(n)\n",
    "        if pointer2 is None:              # SC = O(n)\n",
    "            return None\n",
    "        pointer2 = pointer2.next\n",
    "\n",
    "    while pointer2:\n",
    "        pointer1 = pointer1.next\n",
    "        pointer2 = pointer2.next\n",
    "    return pointer1\n",
    "\n",
    "customLL = LinkedList()\n",
    "customLL.generate(10, 0, 99)\n",
    "print(customLL)\n",
    "print(nthtoLast(customLL, 3))"
   ]
  },
  {
   "cell_type": "code",
   "execution_count": 9,
   "metadata": {},
   "outputs": [
    {
     "name": "stdout",
     "output_type": "stream",
     "text": [
      "27 -> 41 -> 77 -> 85 -> 97 -> 52 -> 8 -> 34 -> 34 -> 72\n",
      "8 -> 27 -> 41 -> 77 -> 85 -> 97 -> 52 -> 34 -> 34 -> 72\n"
     ]
    }
   ],
   "source": [
    "# WRITE CODE TO PAARTION A LINKED LIST AROUND A VALUE X, SUCH THAT ALL NODES LESS THAN X COME BEFORE ALL NODES GREATER THAN OR EQUAL TO X\n",
    "\n",
    "from LinkedList import LinkedList\n",
    "\n",
    "def partition(ll, x):\n",
    "    curNode = ll.head\n",
    "    ll.tail = ll.head\n",
    "\n",
    "    while curNode:\n",
    "        nextNode = curNode.next\n",
    "        curNode.next = None                      # TC = O(n)\n",
    "        if curNode.value < x :                   # SC = O(n)\n",
    "            curNode.next = ll.head\n",
    "            ll.head = curNode\n",
    "        else:\n",
    "            ll.tail.next = curNode\n",
    "            ll.tail = curNode\n",
    "        curNode = nextNode\n",
    "\n",
    "    if ll.tail.next is not None:\n",
    "        ll.tail.next = None\n",
    "\n",
    "customLL = LinkedList()\n",
    "customLL.generate(10, 0, 99)\n",
    "print(customLL)\n",
    "partition(customLL, 30)\n",
    "print(customLL)\n"
   ]
  },
  {
   "cell_type": "code",
   "execution_count": null,
   "metadata": {},
   "outputs": [],
   "source": []
  },
  {
   "cell_type": "code",
   "execution_count": null,
   "metadata": {},
   "outputs": [],
   "source": []
  }
 ],
 "metadata": {
  "kernelspec": {
   "display_name": "Python 3",
   "language": "python",
   "name": "python3"
  },
  "language_info": {
   "codemirror_mode": {
    "name": "ipython",
    "version": 3
   },
   "file_extension": ".py",
   "mimetype": "text/x-python",
   "name": "python",
   "nbconvert_exporter": "python",
   "pygments_lexer": "ipython3",
   "version": "3.11.1"
  },
  "orig_nbformat": 4
 },
 "nbformat": 4,
 "nbformat_minor": 2
}
