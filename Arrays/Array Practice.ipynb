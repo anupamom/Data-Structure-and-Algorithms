{
 "cells": [
  {
   "attachments": {},
   "cell_type": "markdown",
   "metadata": {},
   "source": [
    "  1. Create an array and traverse.\n",
    "  2. Access individual elements through indexes\n",
    "  3. Append any value to the array using append() method\n",
    "  4. Insert value in an array using insert() method\n",
    "  5. Extend python array using extend() method\n",
    "  6. Add items from list into array using fromlist() method\n",
    "  7. Remove any array element using remove() method\n",
    "  8. Remove last array element using pop() method\n",
    "  9. Fetch any element through its index using index() method\n",
    "  10. Reverse a python array using reverse() method\n",
    "  11. Get array buffer information through buffer_info()\n",
    "  12. Check for number of occurrences of an element using count() method\n",
    "  13. Convert array to string using tostring() method\n",
    "  14. Convert array to a python list with same elements using tolist() method\n",
    "  15. Append a string to char array using fromstring() method\n",
    "  16. Slice Elements from an array\n"
   ]
  },
  {
   "cell_type": "code",
   "execution_count": 6,
   "metadata": {},
   "outputs": [
    {
     "name": "stdout",
     "output_type": "stream",
     "text": [
      "1\n",
      "2\n",
      "3\n",
      "4\n",
      "5\n"
     ]
    }
   ],
   "source": [
    "# Step 1\n",
    "from array import *\n",
    "\n",
    "a = array('i',[1,2,3,4,5])\n",
    "\n",
    "for i in a:\n",
    "    print(i)"
   ]
  },
  {
   "cell_type": "code",
   "execution_count": 7,
   "metadata": {},
   "outputs": [
    {
     "data": {
      "text/plain": [
       "1"
      ]
     },
     "execution_count": 7,
     "metadata": {},
     "output_type": "execute_result"
    }
   ],
   "source": [
    "# Step 2\n",
    "a[0]"
   ]
  },
  {
   "cell_type": "code",
   "execution_count": 8,
   "metadata": {},
   "outputs": [
    {
     "name": "stdout",
     "output_type": "stream",
     "text": [
      "array('i', [1, 2, 3, 4, 5, 6])\n"
     ]
    }
   ],
   "source": [
    "# Step 3\n",
    "a.append(6)\n",
    "print(a)"
   ]
  },
  {
   "cell_type": "code",
   "execution_count": 9,
   "metadata": {},
   "outputs": [
    {
     "name": "stdout",
     "output_type": "stream",
     "text": [
      "array('i', [11, 1, 2, 3, 4, 5, 6])\n"
     ]
    }
   ],
   "source": [
    "# Step 4 \n",
    "a.insert(0,11)\n",
    "print(a)"
   ]
  },
  {
   "cell_type": "code",
   "execution_count": 16,
   "metadata": {},
   "outputs": [
    {
     "name": "stdout",
     "output_type": "stream",
     "text": [
      "array('i', [1, 2, 3, 4, 5, 10, 11, 12])\n"
     ]
    }
   ],
   "source": [
    "# Step 5\n",
    "a = array('i',[1,2,3,4,5])\n",
    "a1 = array('i',[10,11,12])\n",
    "a.extend(a1)\n",
    "print(a)"
   ]
  },
  {
   "cell_type": "code",
   "execution_count": 17,
   "metadata": {},
   "outputs": [
    {
     "name": "stdout",
     "output_type": "stream",
     "text": [
      "array('i', [1, 2, 3, 4, 5, 10, 11, 12, 20, 21, 22])\n"
     ]
    }
   ],
   "source": [
    "# Step 6\n",
    "\n",
    "templist = [20,21,22]\n",
    "a.fromlist(templist)\n",
    "print(a)"
   ]
  },
  {
   "cell_type": "code",
   "execution_count": 18,
   "metadata": {},
   "outputs": [
    {
     "name": "stdout",
     "output_type": "stream",
     "text": [
      "array('i', [1, 2, 3, 4, 5, 10, 11, 12, 20, 21])\n"
     ]
    }
   ],
   "source": [
    "# Step 7\n",
    "a.remove(22)\n",
    "print(a)"
   ]
  },
  {
   "cell_type": "code",
   "execution_count": 19,
   "metadata": {},
   "outputs": [
    {
     "name": "stdout",
     "output_type": "stream",
     "text": [
      "array('i', [1, 2, 3, 4, 5, 10, 11, 12, 20])\n"
     ]
    }
   ],
   "source": [
    "# Step 8\n",
    "a.pop()\n",
    "print(a)"
   ]
  },
  {
   "cell_type": "code",
   "execution_count": 20,
   "metadata": {},
   "outputs": [
    {
     "data": {
      "text/plain": [
       "4"
      ]
     },
     "execution_count": 20,
     "metadata": {},
     "output_type": "execute_result"
    }
   ],
   "source": [
    "# Step 9\n",
    "a.index(5)"
   ]
  },
  {
   "cell_type": "code",
   "execution_count": 21,
   "metadata": {},
   "outputs": [
    {
     "name": "stdout",
     "output_type": "stream",
     "text": [
      "array('i', [20, 12, 11, 10, 5, 4, 3, 2, 1])\n"
     ]
    }
   ],
   "source": [
    "# Step 10\n",
    "a.reverse()\n",
    "print(a)"
   ]
  },
  {
   "cell_type": "code",
   "execution_count": 22,
   "metadata": {},
   "outputs": [
    {
     "name": "stdout",
     "output_type": "stream",
     "text": [
      "(1639225434656, 9)\n"
     ]
    }
   ],
   "source": [
    "# Step 11\n",
    "print(a.buffer_info())"
   ]
  },
  {
   "cell_type": "code",
   "execution_count": 23,
   "metadata": {},
   "outputs": [
    {
     "name": "stdout",
     "output_type": "stream",
     "text": [
      "2\n"
     ]
    }
   ],
   "source": [
    "# Step 12\n",
    "a.append(4)\n",
    "print(a.count(4))"
   ]
  },
  {
   "cell_type": "code",
   "execution_count": 24,
   "metadata": {},
   "outputs": [
    {
     "ename": "AttributeError",
     "evalue": "'array.array' object has no attribute 'tostring'",
     "output_type": "error",
     "traceback": [
      "\u001b[1;31m---------------------------------------------------------------------------\u001b[0m",
      "\u001b[1;31mAttributeError\u001b[0m                            Traceback (most recent call last)",
      "Cell \u001b[1;32mIn[24], line 2\u001b[0m\n\u001b[0;32m      1\u001b[0m \u001b[39m# Step 13\u001b[39;00m\n\u001b[1;32m----> 2\u001b[0m strtemp \u001b[39m=\u001b[39m a\u001b[39m.\u001b[39;49mtostring()\n\u001b[0;32m      3\u001b[0m \u001b[39mprint\u001b[39m(strtemp)\n",
      "\u001b[1;31mAttributeError\u001b[0m: 'array.array' object has no attribute 'tostring'"
     ]
    }
   ],
   "source": [
    "# Step 13\n",
    "strtemp = a.tostring()\n",
    "print(strtemp)"
   ]
  },
  {
   "cell_type": "code",
   "execution_count": 25,
   "metadata": {},
   "outputs": [
    {
     "name": "stdout",
     "output_type": "stream",
     "text": [
      "[20, 12, 11, 10, 5, 4, 3, 2, 1, 4]\n"
     ]
    }
   ],
   "source": [
    "# Step 14\n",
    "print(a.tolist())"
   ]
  },
  {
   "cell_type": "code",
   "execution_count": 26,
   "metadata": {},
   "outputs": [
    {
     "name": "stdout",
     "output_type": "stream",
     "text": [
      "array('i', [20, 12, 11, 10, 5, 4, 3, 2, 1, 4])\n"
     ]
    }
   ],
   "source": [
    "# Step 15\n",
    "print(a)"
   ]
  },
  {
   "cell_type": "code",
   "execution_count": 30,
   "metadata": {},
   "outputs": [
    {
     "name": "stdout",
     "output_type": "stream",
     "text": [
      "array('i', [11, 10, 5, 4, 3, 2, 1, 4])\n"
     ]
    }
   ],
   "source": [
    "# Step 16\n",
    "print(a[2:])\n"
   ]
  },
  {
   "cell_type": "code",
   "execution_count": null,
   "metadata": {},
   "outputs": [],
   "source": []
  }
 ],
 "metadata": {
  "kernelspec": {
   "display_name": "Python 3",
   "language": "python",
   "name": "python3"
  },
  "language_info": {
   "codemirror_mode": {
    "name": "ipython",
    "version": 3
   },
   "file_extension": ".py",
   "mimetype": "text/x-python",
   "name": "python",
   "nbconvert_exporter": "python",
   "pygments_lexer": "ipython3",
   "version": "3.11.1"
  },
  "orig_nbformat": 4
 },
 "nbformat": 4,
 "nbformat_minor": 2
}
