{
 "cells": [
  {
   "cell_type": "code",
   "execution_count": 6,
   "metadata": {},
   "outputs": [
    {
     "name": "stdout",
     "output_type": "stream",
     "text": [
      "21.666666666666668\n",
      "[10, 5, 50]\n",
      "50\n"
     ]
    }
   ],
   "source": [
    "# Calculating average temperature\n",
    "\n",
    "total_days = int(input(\"Enter the number of days\")) \n",
    "total = 0\n",
    "above = []\n",
    "for i in range(1,total_days+1):\n",
    "    temp = int(input(\"Enter the temperature for day \" + str(i)))\n",
    "    above.append(temp)\n",
    "    total += temp\n",
    "average = (total/total_days)\n",
    "print(average)\n",
    "print(above)\n",
    "# Above the average\n",
    "\n",
    "for j in above:\n",
    "    if j > average:\n",
    "        print(j)\n",
    "    else:\n",
    "        pass\n"
   ]
  },
  {
   "cell_type": "code",
   "execution_count": null,
   "metadata": {},
   "outputs": [],
   "source": []
  }
 ],
 "metadata": {
  "kernelspec": {
   "display_name": "Python 3",
   "language": "python",
   "name": "python3"
  },
  "language_info": {
   "codemirror_mode": {
    "name": "ipython",
    "version": 3
   },
   "file_extension": ".py",
   "mimetype": "text/x-python",
   "name": "python",
   "nbconvert_exporter": "python",
   "pygments_lexer": "ipython3",
   "version": "3.11.1"
  },
  "orig_nbformat": 4
 },
 "nbformat": 4,
 "nbformat_minor": 2
}
